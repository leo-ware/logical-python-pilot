{
 "cells": [
  {
   "cell_type": "code",
   "execution_count": 2,
   "metadata": {
    "pycharm": {
     "name": "#%%\n"
    }
   },
   "outputs": [],
   "source": [
    "from package import Constant, Variable, Functor"
   ]
  },
  {
   "cell_type": "code",
   "execution_count": 3,
   "metadata": {},
   "outputs": [],
   "source": [
    "# Let's set up some constants.\n",
    "\n",
    "Leo = Constant()\n",
    "Andre = Constant()\n",
    "\n",
    "# These behave like you would expect.\n",
    "\n",
    "assert not Leo == Andre\n",
    "assert Leo == Leo"
   ]
  },
  {
   "cell_type": "code",
   "execution_count": 4,
   "metadata": {},
   "outputs": [],
   "source": [
    "# If two constants are initialized with the same value...\n",
    "Alice = Constant(\"Alice\")\n",
    "Bob = Constant(\"Alice\")\n",
    "\n",
    "# or with each other...\n",
    "Eve = Constant(Alice)\n",
    "\n",
    "# ...they are equal.\n",
    "assert Alice == Bob\n",
    "assert Alice == Eve"
   ]
  },
  {
   "cell_type": "code",
   "execution_count": 5,
   "metadata": {},
   "outputs": [
    {
     "ename": "AssertionError",
     "evalue": "",
     "output_type": "error",
     "traceback": [
      "\u001b[0;31m---------------------------------------------------------------------------\u001b[0m",
      "\u001b[0;31mAssertionError\u001b[0m                            Traceback (most recent call last)",
      "\u001b[0;32m<ipython-input-5-521a44ee705a>\u001b[0m in \u001b[0;36m<module>\u001b[0;34m\u001b[0m\n\u001b[1;32m     24\u001b[0m \u001b[0;34m\u001b[0m\u001b[0m\n\u001b[1;32m     25\u001b[0m \u001b[0;31m# You get:\u001b[0m\u001b[0;34m\u001b[0m\u001b[0;34m\u001b[0m\u001b[0;34m\u001b[0m\u001b[0m\n\u001b[0;32m---> 26\u001b[0;31m \u001b[0;32massert\u001b[0m \u001b[0mz\u001b[0m \u001b[0;34m==\u001b[0m \u001b[0mLeo\u001b[0m\u001b[0;34m\u001b[0m\u001b[0;34m\u001b[0m\u001b[0m\n\u001b[0m\u001b[1;32m     27\u001b[0m \u001b[0;32massert\u001b[0m \u001b[0mz\u001b[0m \u001b[0;34m!=\u001b[0m \u001b[0mLeo\u001b[0m\u001b[0;34m\u001b[0m\u001b[0;34m\u001b[0m\u001b[0m\n\u001b[1;32m     28\u001b[0m \u001b[0;34m\u001b[0m\u001b[0m\n",
      "\u001b[0;31mAssertionError\u001b[0m: "
     ]
    }
   ],
   "source": [
    "# Here are some variables.\n",
    "\n",
    "x = Variable()\n",
    "y = Variable()\n",
    "z = Variable()\n",
    "\n",
    "# Unficiation will try to keep the statements True as long as it can.\n",
    "# Sometimes that means assigning values to variables...\n",
    "\n",
    "a = Variable()\n",
    "assert a == Leo\n",
    "assert not a == Andre\n",
    "\n",
    "\n",
    "# ...or imposing constraints on what values the variables can take on in future.\n",
    "# It maintains a record of these constraints internally.\n",
    "\n",
    "# So, when\n",
    "x == y\n",
    "y == z\n",
    "\n",
    "# and,\n",
    "x == Leo\n",
    "\n",
    "# You get:\n",
    "assert z == Leo\n",
    "assert z != Leo\n",
    "\n",
    "# Equality is transitive."
   ]
  },
  {
   "cell_type": "code",
   "execution_count": 7,
   "metadata": {},
   "outputs": [],
   "source": [
    "# Finally, functors\n",
    "\n",
    "# These feel a little awkward when you don't have higher order operators\n",
    "# to define relationships between them.\n",
    "\n",
    "# Take my word for it, they are useful when you do.\n",
    "\n",
    "mystery_person = Variable()\n",
    "\n",
    "A = Functor(\"Friend\", Leo, Andre)\n",
    "B = Functor(\"Friend\", Leo, mystery_person)\n",
    "\n",
    "# Thisis what they do.\n",
    "\n",
    "assert A == B\n",
    "assert not mystery_person == Leo\n",
    "assert mystery_person == Andre"
   ]
  },
  {
   "cell_type": "code",
   "execution_count": null,
   "metadata": {},
   "outputs": [],
   "source": [
    "# Yep, so that's where the package is at right now. Hopefully, there will\n",
    "# be a big overhall soon with backtracking and higher order operators.\n",
    "\n",
    "# In the mean time, feel free to send pull requests or feedback on the API.\n",
    "# I would be curious to see what other people think."
   ]
  }
 ],
 "metadata": {
  "kernelspec": {
   "display_name": "Python 3",
   "language": "python",
   "name": "python3"
  },
  "language_info": {
   "codemirror_mode": {
    "name": "ipython",
    "version": 3
   },
   "file_extension": ".py",
   "mimetype": "text/x-python",
   "name": "python",
   "nbconvert_exporter": "python",
   "pygments_lexer": "ipython3",
   "version": "3.8.5"
  }
 },
 "nbformat": 4,
 "nbformat_minor": 4
}
