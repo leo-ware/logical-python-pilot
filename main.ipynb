{
 "cells": [
  {
   "cell_type": "markdown",
   "metadata": {},
   "source": [
    "## Demo for my amazing python project\n",
    "\n",
    "*Leo Ware*"
   ]
  },
  {
   "cell_type": "code",
   "execution_count": 1,
   "metadata": {
    "pycharm": {
     "name": "#%%\n"
    }
   },
   "outputs": [],
   "source": [
    "from package import Constant, Variable, Functor"
   ]
  },
  {
   "cell_type": "markdown",
   "metadata": {},
   "source": [
    "### Constants"
   ]
  },
  {
   "cell_type": "code",
   "execution_count": 2,
   "metadata": {},
   "outputs": [
    {
     "name": "stdout",
     "output_type": "stream",
     "text": [
      "True False\n"
     ]
    }
   ],
   "source": [
    "# Let's set up some constants.\n",
    "Leo = Constant(\"Leo\")\n",
    "Andre = Constant(\"Andre\")\n",
    "\n",
    "# These behave like you would expect.\n",
    "print(Leo == Leo, Leo == Andre)"
   ]
  },
  {
   "cell_type": "code",
   "execution_count": 3,
   "metadata": {},
   "outputs": [
    {
     "name": "stdout",
     "output_type": "stream",
     "text": [
      "<Constant value=\"Andre\">\n",
      "<Constant value=\"constant-426078674716236544\">\n"
     ]
    }
   ],
   "source": [
    "# You don't need to specify values for the constants, but they make the output more readable.\n",
    "# e.g., This is valid:\n",
    "\n",
    "SanFrancisco = Constant()\n",
    "\n",
    "# but the prinout is incomprehensible\n",
    "\n",
    "print(Andre)\n",
    "print(SanFrancisco)"
   ]
  },
  {
   "cell_type": "code",
   "execution_count": 4,
   "metadata": {},
   "outputs": [
    {
     "name": "stdout",
     "output_type": "stream",
     "text": [
      "True\n",
      "False\n"
     ]
    }
   ],
   "source": [
    "# They can also hold other data types, and comparison still works.\n",
    "\n",
    "pi = Constant(3.14159)\n",
    "print(pi == 3.14159)\n",
    "print(pi == 2.71)"
   ]
  },
  {
   "cell_type": "code",
   "execution_count": 5,
   "metadata": {},
   "outputs": [
    {
     "name": "stdout",
     "output_type": "stream",
     "text": [
      "True\n",
      "True\n"
     ]
    }
   ],
   "source": [
    "# If two constants are initialized with the same value...\n",
    "Alice = Constant(\"Alice\")\n",
    "Bob = Constant(\"Alice\")\n",
    "\n",
    "# or with each other...\n",
    "Eve = Constant(Alice)\n",
    "\n",
    "# ...they are equal.\n",
    "print(Alice == Bob)\n",
    "print(Alice == Eve)"
   ]
  },
  {
   "cell_type": "markdown",
   "metadata": {},
   "source": [
    "### Variables"
   ]
  },
  {
   "cell_type": "code",
   "execution_count": 6,
   "metadata": {},
   "outputs": [
    {
     "name": "stdout",
     "output_type": "stream",
     "text": [
      "True\n",
      "False\n"
     ]
    }
   ],
   "source": [
    "# Unficiation will try to keep atomic equality statements True as long as it can.\n",
    "# Sometimes that means assigning values to variables...\n",
    "\n",
    "a = Variable()\n",
    "print(a == Leo)\n",
    "print(a == Andre)\n",
    "\n",
    "# First a binds to Leo, making that comparison true.\n",
    "# However, now it has a value. So, it cannot bind to Andre. It returns False."
   ]
  },
  {
   "cell_type": "code",
   "execution_count": 7,
   "metadata": {},
   "outputs": [
    {
     "name": "stdout",
     "output_type": "stream",
     "text": [
      "<Variable bound value=<Constant value=\"Leo\">>\n"
     ]
    }
   ],
   "source": [
    "# We can see that the binding has become part of it's internal state.\n",
    "\n",
    "print(a)"
   ]
  },
  {
   "cell_type": "code",
   "execution_count": 8,
   "metadata": {},
   "outputs": [
    {
     "name": "stdout",
     "output_type": "stream",
     "text": [
      "True\n",
      "True\n",
      "<Variable bound value=<Constant value=\"Andre\">>\n"
     ]
    }
   ],
   "source": [
    "x = Variable()\n",
    "y = Variable()\n",
    "z = Variable()\n",
    "\n",
    "# ...or imposing constraints on what values the variables can take on in future.\n",
    "# It maintains a record of these constraints internally.\n",
    "\n",
    "# So, when\n",
    "x == y\n",
    "y == z\n",
    "\n",
    "# and,\n",
    "z == Andre\n",
    "\n",
    "# You get:\n",
    "print(z == Andre)\n",
    "print(z != Leo)\n",
    "\n",
    "# Equality is transitive.\n",
    "print(x)"
   ]
  },
  {
   "cell_type": "markdown",
   "metadata": {},
   "source": [
    "### Functors"
   ]
  },
  {
   "cell_type": "code",
   "execution_count": 9,
   "metadata": {},
   "outputs": [],
   "source": [
    "# Finally, functors\n",
    "\n",
    "# These feel a little awkward when you don't have higher order operators\n",
    "# to define relationships between them.\n",
    "\n",
    "# Take my word for it, they are useful when you do.\n",
    "\n",
    "mystery_person = Variable()\n",
    "\n",
    "A = Functor(\"Friend\", Leo, Andre)\n",
    "B = Functor(\"Friend\", Leo, mystery_person)\n",
    "\n",
    "# Thisis what they do.\n",
    "\n",
    "assert A == B\n",
    "assert not mystery_person == Leo\n",
    "assert mystery_person == Andre"
   ]
  },
  {
   "cell_type": "markdown",
   "metadata": {},
   "source": [
    "*Yep, so that's where the package is at right now. Hopefully, there will be a big overhall soon \n",
    "with backtracking and higher order operators. In the mean time, feel free to \n",
    "send pull requests or feedback on the API. I would be curious to see what other people think.*"
   ]
  },
  {
   "cell_type": "code",
   "execution_count": null,
   "metadata": {},
   "outputs": [],
   "source": []
  }
 ],
 "metadata": {
  "kernelspec": {
   "display_name": "Python 3",
   "language": "python",
   "name": "python3"
  },
  "language_info": {
   "codemirror_mode": {
    "name": "ipython",
    "version": 3
   },
   "file_extension": ".py",
   "mimetype": "text/x-python",
   "name": "python",
   "nbconvert_exporter": "python",
   "pygments_lexer": "ipython3",
   "version": "3.8.5"
  }
 },
 "nbformat": 4,
 "nbformat_minor": 4
}
